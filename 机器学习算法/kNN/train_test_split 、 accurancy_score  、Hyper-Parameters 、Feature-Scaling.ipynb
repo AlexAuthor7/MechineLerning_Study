{
 "cells": [
  {
   "cell_type": "code",
   "execution_count": 51,
   "metadata": {},
   "outputs": [],
   "source": [
    "import matplotlib.pyplot as plt\n",
    "import numpy as np\n",
    "from sklearn import datasets # 加载sklearn的数据库"
   ]
  },
  {
   "cell_type": "code",
   "execution_count": 52,
   "metadata": {},
   "outputs": [
    {
     "data": {
      "text/plain": [
       "dict_keys(['data', 'target', 'frame', 'feature_names', 'target_names', 'images', 'DESCR'])"
      ]
     },
     "execution_count": 52,
     "metadata": {},
     "output_type": "execute_result"
    }
   ],
   "source": [
    "digits = datasets.load_digits()   # 加载鸢尾花数据集\n",
    "digits.keys()  #查看鸢尾花数据集中的 字典"
   ]
  },
  {
   "cell_type": "code",
   "execution_count": 53,
   "metadata": {},
   "outputs": [
    {
     "data": {
      "text/plain": [
       "['pixel_0_0',\n",
       " 'pixel_0_1',\n",
       " 'pixel_0_2',\n",
       " 'pixel_0_3',\n",
       " 'pixel_0_4',\n",
       " 'pixel_0_5',\n",
       " 'pixel_0_6',\n",
       " 'pixel_0_7',\n",
       " 'pixel_1_0',\n",
       " 'pixel_1_1',\n",
       " 'pixel_1_2',\n",
       " 'pixel_1_3',\n",
       " 'pixel_1_4',\n",
       " 'pixel_1_5',\n",
       " 'pixel_1_6',\n",
       " 'pixel_1_7',\n",
       " 'pixel_2_0',\n",
       " 'pixel_2_1',\n",
       " 'pixel_2_2',\n",
       " 'pixel_2_3',\n",
       " 'pixel_2_4',\n",
       " 'pixel_2_5',\n",
       " 'pixel_2_6',\n",
       " 'pixel_2_7',\n",
       " 'pixel_3_0',\n",
       " 'pixel_3_1',\n",
       " 'pixel_3_2',\n",
       " 'pixel_3_3',\n",
       " 'pixel_3_4',\n",
       " 'pixel_3_5',\n",
       " 'pixel_3_6',\n",
       " 'pixel_3_7',\n",
       " 'pixel_4_0',\n",
       " 'pixel_4_1',\n",
       " 'pixel_4_2',\n",
       " 'pixel_4_3',\n",
       " 'pixel_4_4',\n",
       " 'pixel_4_5',\n",
       " 'pixel_4_6',\n",
       " 'pixel_4_7',\n",
       " 'pixel_5_0',\n",
       " 'pixel_5_1',\n",
       " 'pixel_5_2',\n",
       " 'pixel_5_3',\n",
       " 'pixel_5_4',\n",
       " 'pixel_5_5',\n",
       " 'pixel_5_6',\n",
       " 'pixel_5_7',\n",
       " 'pixel_6_0',\n",
       " 'pixel_6_1',\n",
       " 'pixel_6_2',\n",
       " 'pixel_6_3',\n",
       " 'pixel_6_4',\n",
       " 'pixel_6_5',\n",
       " 'pixel_6_6',\n",
       " 'pixel_6_7',\n",
       " 'pixel_7_0',\n",
       " 'pixel_7_1',\n",
       " 'pixel_7_2',\n",
       " 'pixel_7_3',\n",
       " 'pixel_7_4',\n",
       " 'pixel_7_5',\n",
       " 'pixel_7_6',\n",
       " 'pixel_7_7']"
      ]
     },
     "execution_count": 53,
     "metadata": {},
     "output_type": "execute_result"
    }
   ],
   "source": [
    "digits.feature_names"
   ]
  },
  {
   "cell_type": "code",
   "execution_count": 54,
   "metadata": {},
   "outputs": [
    {
     "data": {
      "text/plain": [
       "(1797, 64)"
      ]
     },
     "execution_count": 54,
     "metadata": {},
     "output_type": "execute_result"
    }
   ],
   "source": [
    "x = digits.data\n",
    "y = digits.target\n",
    "x.shape"
   ]
  },
  {
   "cell_type": "code",
   "execution_count": 55,
   "metadata": {},
   "outputs": [
    {
     "data": {
      "text/plain": [
       "(1797,)"
      ]
     },
     "execution_count": 55,
     "metadata": {},
     "output_type": "execute_result"
    }
   ],
   "source": [
    "y.shape"
   ]
  },
  {
   "cell_type": "markdown",
   "metadata": {},
   "source": [
    "## 1.train_test_split\n",
    " 拆分数据，一部分作为训练数据，一部分作为测试数据\n",
    " 即获取数据的索引"
   ]
  },
  {
   "cell_type": "code",
   "execution_count": 56,
   "metadata": {},
   "outputs": [
    {
     "data": {
      "text/plain": [
       "array([ 506,   84,  951, ..., 1493, 1247, 1443])"
      ]
     },
     "execution_count": 56,
     "metadata": {},
     "output_type": "execute_result"
    }
   ],
   "source": [
    "shuffled_indexes = np.random.permutation(len(x))# 将数据集的索引打乱\n",
    "shuffled_indexes"
   ]
  },
  {
   "cell_type": "code",
   "execution_count": 57,
   "metadata": {},
   "outputs": [],
   "source": [
    "test_ratio = 0.2 # 测试数据集所占的比重\n",
    "test_size = int(len(x) * test_ratio)  # 测试数据集的数量"
   ]
  },
  {
   "cell_type": "code",
   "execution_count": 58,
   "metadata": {},
   "outputs": [],
   "source": [
    "test_indexes = shuffled_indexes[:test_size] # 测试数据集的索引\n",
    "train_indexes = shuffled_indexes[test_size:] # 训练数据集的索引"
   ]
  },
  {
   "cell_type": "code",
   "execution_count": 59,
   "metadata": {},
   "outputs": [],
   "source": [
    "x_train = x[train_indexes]  # 训练数据集\n",
    "y_train = y[train_indexes]"
   ]
  },
  {
   "cell_type": "code",
   "execution_count": 60,
   "metadata": {},
   "outputs": [],
   "source": [
    "x_test = x[test_indexes]\n",
    "y_test = y[test_indexes]"
   ]
  },
  {
   "cell_type": "markdown",
   "metadata": {},
   "source": [
    "##### 1-2 使用scikt-learn 中的  train_test_split"
   ]
  },
  {
   "cell_type": "code",
   "execution_count": 61,
   "metadata": {},
   "outputs": [],
   "source": [
    "from sklearn.model_selection import train_test_split"
   ]
  },
  {
   "cell_type": "code",
   "execution_count": 62,
   "metadata": {},
   "outputs": [],
   "source": [
    "x_train,x_test,y_train,y_test = train_test_split(x,y,test_size = 0.2 ,random_state = 666)\n",
    "# 设置测试数据集的分数 ， 并设置随机种子"
   ]
  },
  {
   "cell_type": "code",
   "execution_count": 63,
   "metadata": {},
   "outputs": [
    {
     "name": "stdout",
     "output_type": "stream",
     "text": [
      "(1437, 64)\n",
      "(360, 64)\n"
     ]
    }
   ],
   "source": [
    "print(x_train.shape)\n",
    "print(x_test.shape)"
   ]
  },
  {
   "cell_type": "markdown",
   "metadata": {},
   "source": [
    "## 2.使用scikit-learn中的kNN,并预测结果准确度 accuracy_score "
   ]
  },
  {
   "cell_type": "code",
   "execution_count": 64,
   "metadata": {},
   "outputs": [],
   "source": [
    "from sklearn.neighbors import KNeighborsClassifier as knn\n",
    "import matplotlib.pyplot as plt"
   ]
  },
  {
   "cell_type": "code",
   "execution_count": 65,
   "metadata": {},
   "outputs": [
    {
     "data": {
      "text/plain": [
       "KNeighborsClassifier(n_neighbors=3)"
      ]
     },
     "execution_count": 65,
     "metadata": {},
     "output_type": "execute_result"
    }
   ],
   "source": [
    "my_knn_clf = knn(3)  #  创建knn类的对象，并设置超参数 k\n",
    "my_knn_clf.fit(x_train,y_train)  # 传入训练数据，对模型进行训练"
   ]
  },
  {
   "cell_type": "code",
   "execution_count": 66,
   "metadata": {},
   "outputs": [],
   "source": [
    "y_predict = my_knn_clf.predict(x_test) # 传入测试数据，返回预测结果集"
   ]
  },
  {
   "cell_type": "code",
   "execution_count": 67,
   "metadata": {},
   "outputs": [
    {
     "data": {
      "text/plain": [
       "0.9888888888888889"
      ]
     },
     "execution_count": 67,
     "metadata": {},
     "output_type": "execute_result"
    }
   ],
   "source": [
    "sum(y_predict == y_test) / len(y_test)"
   ]
  },
  {
   "cell_type": "markdown",
   "metadata": {},
   "source": [
    "##### 2-2 使用sklearn 中的accurancy_score"
   ]
  },
  {
   "cell_type": "code",
   "execution_count": 68,
   "metadata": {},
   "outputs": [],
   "source": [
    "from sklearn.metrics import accuracy_score"
   ]
  },
  {
   "cell_type": "code",
   "execution_count": 81,
   "metadata": {},
   "outputs": [
    {
     "data": {
      "text/plain": [
       "0.9888888888888889"
      ]
     },
     "execution_count": 81,
     "metadata": {},
     "output_type": "execute_result"
    }
   ],
   "source": [
    "accuracy_score(y_test,y_predict)"
   ]
  },
  {
   "cell_type": "markdown",
   "metadata": {},
   "source": [
    "## 3.Hyper-Parameters(超参数)"
   ]
  },
  {
   "cell_type": "markdown",
   "metadata": {},
   "source": [
    "######  3-1 寻找最好的K"
   ]
  },
  {
   "cell_type": "code",
   "execution_count": 70,
   "metadata": {},
   "outputs": [],
   "source": [
    "best_score = 0.0 # 初始化超参数\n",
    "best_k = -1 "
   ]
  },
  {
   "cell_type": "code",
   "execution_count": 84,
   "metadata": {},
   "outputs": [],
   "source": [
    "for k in range(1, 11):\n",
    "    knn_clf = knn(n_neighbors=k)\n",
    "    knn_clf.fit(x_train, y_train)\n",
    "    score = knn_clf.score(x_test, y_test)\n",
    "    if score > best_score:\n",
    "        best_k = k\n",
    "        best_score = score"
   ]
  },
  {
   "cell_type": "code",
   "execution_count": 85,
   "metadata": {},
   "outputs": [
    {
     "name": "stdout",
     "output_type": "stream",
     "text": [
      "best_k =  4\n",
      "best_score =  0.9916666666666667\n"
     ]
    }
   ],
   "source": [
    "print('best_k = ',best_k)\n",
    "print('best_score = ',best_score)"
   ]
  },
  {
   "cell_type": "markdown",
   "metadata": {},
   "source": [
    "###### 3-2 考虑距离？不考虑距离？"
   ]
  },
  {
   "cell_type": "code",
   "execution_count": 86,
   "metadata": {},
   "outputs": [],
   "source": [
    "best_score = 0.0 # 初始化超参数\n",
    "best_k = -1\n",
    "best_method = \"\""
   ]
  },
  {
   "cell_type": "code",
   "execution_count": 88,
   "metadata": {},
   "outputs": [],
   "source": [
    "for method in [\"uniform\", \"distance\"]:\n",
    "    for k in range(1, 11):\n",
    "        knn_clf = KNeighborsClassifier(n_neighbors=k, weights=method)\n",
    "        knn_clf.fit(x_train, y_train)\n",
    "        score = knn_clf.score(x_test, y_test)\n",
    "        if score > best_score:\n",
    "            best_k = k\n",
    "            best_score = score\n",
    "            best_method = method"
   ]
  },
  {
   "cell_type": "code",
   "execution_count": 89,
   "metadata": {},
   "outputs": [
    {
     "name": "stdout",
     "output_type": "stream",
     "text": [
      "best_method = uniform\n",
      "best_k = 4\n",
      "best_score = 0.9916666666666667\n"
     ]
    }
   ],
   "source": [
    "print(\"best_method =\", best_method)\n",
    "print(\"best_k =\", best_k)\n",
    "print(\"best_score =\", best_score)"
   ]
  },
  {
   "attachments": {
    "image.png": {
     "image/png": "[encoded data removed]"
    }
   },
   "cell_type": "markdown",
   "metadata": {},
   "source": [
    "###### 3-3 搜索明可夫斯基距离相应的p\n",
    "![image.png](attachment:image.png)"
   ]
  },
  {
   "cell_type": "code",
   "execution_count": 90,
   "metadata": {},
   "outputs": [],
   "source": [
    "best_score = 0.0 # 初始化超参数\n",
    "best_k = -1\n",
    "best_p = -1"
   ]
  },
  {
   "cell_type": "code",
   "execution_count": 92,
   "metadata": {},
   "outputs": [],
   "source": [
    "for k in range(1, 11):\n",
    "    for p in range(1, 6):\n",
    "        knn_clf = KNeighborsClassifier(n_neighbors=k, weights=\"distance\", p=p)\n",
    "        knn_clf.fit(x_train, y_train)\n",
    "        score = knn_clf.score(x_test, y_test)\n",
    "        if score > best_score:\n",
    "            best_k = k\n",
    "            best_p = p\n",
    "            best_score = score"
   ]
  },
  {
   "cell_type": "code",
   "execution_count": 93,
   "metadata": {},
   "outputs": [
    {
     "name": "stdout",
     "output_type": "stream",
     "text": [
      "best_k = 3\n",
      "best_p = 2\n",
      "best_score = 0.9888888888888889\n"
     ]
    }
   ],
   "source": [
    "print(\"best_k =\", best_k)\n",
    "print(\"best_p =\", best_p)\n",
    "print(\"best_score =\", best_score)"
   ]
  },
  {
   "cell_type": "markdown",
   "metadata": {},
   "source": [
    "## 4 网格搜索（grid search）：sklearn 为我们封装了以上方法 ，来寻找超参数"
   ]
  },
  {
   "cell_type": "code",
   "execution_count": 114,
   "metadata": {},
   "outputs": [],
   "source": [
    "param_grid = [        # 初始化网格搜索的范围\n",
    "    {\n",
    "        'weights': ['uniform'], \n",
    "        'n_neighbors': [i for i in range(1, 11)]\n",
    "    },\n",
    "    {\n",
    "        'weights': ['distance'],\n",
    "        'n_neighbors': [i for i in range(1, 11)], \n",
    "        'p': [i for i in range(1, 6)]\n",
    "    }\n",
    "]"
   ]
  },
  {
   "cell_type": "code",
   "execution_count": 115,
   "metadata": {},
   "outputs": [],
   "source": [
    "knn_clf = KNeighborsClassifier()"
   ]
  },
  {
   "cell_type": "code",
   "execution_count": 116,
   "metadata": {},
   "outputs": [],
   "source": [
    "from sklearn.model_selection import GridSearchCV # 导入网格搜索库"
   ]
  },
  {
   "cell_type": "code",
   "execution_count": 117,
   "metadata": {},
   "outputs": [],
   "source": [
    "grid_search = GridSearchCV(knn_clf, param_grid)  \n",
    "# 创建类的对象，并传入网格搜索的参数"
   ]
  },
  {
   "cell_type": "code",
   "execution_count": 118,
   "metadata": {},
   "outputs": [
    {
     "name": "stdout",
     "output_type": "stream",
     "text": [
      "Wall time: 49.1 s\n"
     ]
    },
    {
     "data": {
      "text/plain": [
       "GridSearchCV(estimator=KNeighborsClassifier(),\n",
       "             param_grid=[{'n_neighbors': [1, 2, 3, 4, 5, 6, 7, 8, 9, 10],\n",
       "                          'weights': ['uniform']},\n",
       "                         {'n_neighbors': [1, 2, 3, 4, 5, 6, 7, 8, 9, 10],\n",
       "                          'p': [1, 2, 3, 4, 5], 'weights': ['distance']}])"
      ]
     },
     "execution_count": 118,
     "metadata": {},
     "output_type": "execute_result"
    }
   ],
   "source": [
    "%%time\n",
    "grid_search.fit(x_train, y_train)   # 传入训练数据"
   ]
  },
  {
   "cell_type": "code",
   "execution_count": 119,
   "metadata": {},
   "outputs": [
    {
     "data": {
      "text/plain": [
       "KNeighborsClassifier(n_neighbors=1)"
      ]
     },
     "execution_count": 119,
     "metadata": {},
     "output_type": "execute_result"
    }
   ],
   "source": [
    "grid_search.best_estimator_  # 输出网格收索的结果"
   ]
  },
  {
   "cell_type": "code",
   "execution_count": 120,
   "metadata": {},
   "outputs": [
    {
     "data": {
      "text/plain": [
       "0.9860820751064653"
      ]
     },
     "execution_count": 120,
     "metadata": {},
     "output_type": "execute_result"
    }
   ],
   "source": [
    "grid_search.best_score_"
   ]
  },
  {
   "cell_type": "code",
   "execution_count": 121,
   "metadata": {
    "scrolled": true
   },
   "outputs": [
    {
     "name": "stdout",
     "output_type": "stream",
     "text": [
      "Fitting 5 folds for each of 60 candidates, totalling 300 fits\n"
     ]
    },
    {
     "name": "stderr",
     "output_type": "stream",
     "text": [
      "[Parallel(n_jobs=-1)]: Using backend LokyBackend with 16 concurrent workers.\n",
      "[Parallel(n_jobs=-1)]: Done   9 tasks      | elapsed:    3.1s\n",
      "[Parallel(n_jobs=-1)]: Done 170 tasks      | elapsed:    5.2s\n",
      "[Parallel(n_jobs=-1)]: Done 269 out of 300 | elapsed:    7.1s remaining:    0.7s\n"
     ]
    },
    {
     "name": "stdout",
     "output_type": "stream",
     "text": [
      "Wall time: 8.1 s\n"
     ]
    },
    {
     "name": "stderr",
     "output_type": "stream",
     "text": [
      "[Parallel(n_jobs=-1)]: Done 300 out of 300 | elapsed:    8.0s finished\n"
     ]
    },
    {
     "data": {
      "text/plain": [
       "GridSearchCV(estimator=KNeighborsClassifier(), n_jobs=-1,\n",
       "             param_grid=[{'n_neighbors': [1, 2, 3, 4, 5, 6, 7, 8, 9, 10],\n",
       "                          'weights': ['uniform']},\n",
       "                         {'n_neighbors': [1, 2, 3, 4, 5, 6, 7, 8, 9, 10],\n",
       "                          'p': [1, 2, 3, 4, 5], 'weights': ['distance']}],\n",
       "             verbose=2)"
      ]
     },
     "execution_count": 121,
     "metadata": {},
     "output_type": "execute_result"
    }
   ],
   "source": [
    "%%time\n",
    "grid_search = GridSearchCV(knn_clf, param_grid, n_jobs=-1, verbose=2)\n",
    "grid_search.fit(x_train, y_train)"
   ]
  },
  {
   "cell_type": "markdown",
   "metadata": {},
   "source": [
    "## 5 数据归一化处理（Feature-Scaling）\n",
    "### sklearn 中的StandarScaler"
   ]
  },
  {
   "attachments": {
    "image.png": {
     "image/png": "[encoded data removed]"
    }
   },
   "cell_type": "markdown",
   "metadata": {},
   "source": [
    "###### 5-1 最值归一化:  适用于分布有明显边界的情况；受outlier影响较⼤大\n",
    "![image.png](attachment:image.png)"
   ]
  },
  {
   "cell_type": "code",
   "execution_count": 126,
   "metadata": {},
   "outputs": [
    {
     "data": {
      "text/plain": [
       "array([[50., 23.],\n",
       "       [ 9., 72.],\n",
       "       [80., 85.],\n",
       "       [24., 81.],\n",
       "       [92., 20.],\n",
       "       [64., 66.],\n",
       "       [39., 30.],\n",
       "       [76., 40.],\n",
       "       [53., 13.],\n",
       "       [69., 53.]])"
      ]
     },
     "execution_count": 126,
     "metadata": {},
     "output_type": "execute_result"
    }
   ],
   "source": [
    "X = np.random.randint(0, 100, (50, 2))\n",
    "X = np.array(X, dtype=float)\n",
    "X[:10,:]"
   ]
  },
  {
   "cell_type": "code",
   "execution_count": 127,
   "metadata": {},
   "outputs": [
    {
     "data": {
      "text/plain": [
       "array([[0.5       , 0.23232323],\n",
       "       [0.06382979, 0.72727273],\n",
       "       [0.81914894, 0.85858586],\n",
       "       [0.22340426, 0.81818182],\n",
       "       [0.94680851, 0.2020202 ],\n",
       "       [0.64893617, 0.66666667],\n",
       "       [0.38297872, 0.3030303 ],\n",
       "       [0.77659574, 0.4040404 ],\n",
       "       [0.53191489, 0.13131313],\n",
       "       [0.70212766, 0.53535354]])"
      ]
     },
     "execution_count": 127,
     "metadata": {},
     "output_type": "execute_result"
    }
   ],
   "source": [
    "X[:,0] = (X[:,0] - np.min(X[:,0])) / (np.max(X[:,0]) - np.min(X[:,0]))\n",
    "X[:,1] = (X[:,1] - np.min(X[:,1])) / (np.max(X[:,1]) - np.min(X[:,1]))\n",
    "X[:10,:]"
   ]
  },
  {
   "cell_type": "code",
   "execution_count": 132,
   "metadata": {},
   "outputs": [
    {
     "data": {
      "image/png": "[encoded data removed]",
      "text/plain": [
       "<Figure size 432x288 with 1 Axes>"
      ]
     },
     "metadata": {
      "needs_background": "light"
     },
     "output_type": "display_data"
    }
   ],
   "source": [
    "plt.scatter(X[:,0], X[:,1])\n",
    "plt.show()"
   ]
  },
  {
   "attachments": {
    "image.png": {
     "image/png": "[encoded data removed]"
    }
   },
   "cell_type": "markdown",
   "metadata": {},
   "source": [
    "#####  5-2 均值方差归一化 ：数据分布没有明显的边界；有可能存在极端数据值\n",
    "![image.png](attachment:image.png)"
   ]
  },
  {
   "cell_type": "code",
   "execution_count": 129,
   "metadata": {},
   "outputs": [],
   "source": [
    "X[:,0] = (X[:,0] - np.mean(X[:,0])) / np.std(X[:,0])\n",
    "X[:,1] = (X[:,1] - np.mean(X[:,1])) / np.std(X[:,1])"
   ]
  },
  {
   "cell_type": "code",
   "execution_count": 131,
   "metadata": {},
   "outputs": [
    {
     "data": {
      "image/png": "[encoded data removed]",
      "text/plain": [
       "<Figure size 432x288 with 1 Axes>"
      ]
     },
     "metadata": {
      "needs_background": "light"
     },
     "output_type": "display_data"
    }
   ],
   "source": [
    "plt.scatter(X[:,0], X[:,1])\n",
    "plt.show()"
   ]
  },
  {
   "cell_type": "markdown",
   "metadata": {},
   "source": [
    "###### 5-3 sklearn 中的StanderScaler "
   ]
  },
  {
   "cell_type": "code",
   "execution_count": 147,
   "metadata": {},
   "outputs": [],
   "source": [
    "from sklearn.preprocessing import StandardScaler  # 导入StanderScaler库\n",
    "standardScaler = StandardScaler() # 创建StandarScaler 类的对象"
   ]
  },
  {
   "cell_type": "code",
   "execution_count": 148,
   "metadata": {},
   "outputs": [
    {
     "data": {
      "text/plain": [
       "StandardScaler()"
      ]
     },
     "execution_count": 148,
     "metadata": {},
     "output_type": "execute_result"
    }
   ],
   "source": [
    "standardScaler.fit(x_train)"
   ]
  },
  {
   "cell_type": "code",
   "execution_count": 150,
   "metadata": {},
   "outputs": [
    {
     "data": {
      "text/plain": [
       "array([0.00000000e+00, 3.15240084e-01, 5.22338205e+00, 1.18733473e+01,\n",
       "       1.18030619e+01, 5.77174669e+00, 1.40709812e+00, 1.48921364e-01,\n",
       "       4.87125957e-03, 1.91788448e+00, 1.03096729e+01, 1.19860821e+01,\n",
       "       1.02651357e+01, 8.03131524e+00, 1.85455811e+00, 1.23869172e-01,\n",
       "       2.08768267e-03, 2.54766875e+00, 9.88239388e+00, 7.04592902e+00,\n",
       "       7.07446068e+00, 7.70702853e+00, 1.76478775e+00, 5.14961726e-02,\n",
       "       6.95894224e-04, 2.48155880e+00, 9.21642310e+00, 8.95963814e+00,\n",
       "       9.94015310e+00, 7.55741127e+00, 2.28810021e+00, 2.08768267e-03,\n",
       "       0.00000000e+00, 2.35003479e+00, 7.67501740e+00, 9.07863605e+00,\n",
       "       1.02922756e+01, 8.70354906e+00, 2.87265136e+00, 0.00000000e+00,\n",
       "       4.87125957e-03, 1.53305498e+00, 6.83298539e+00, 7.16771051e+00,\n",
       "       7.67710508e+00, 8.13639527e+00, 3.41684064e+00, 2.99234516e-02,\n",
       "       3.47947112e-03, 6.84064022e-01, 7.48503827e+00, 9.61795407e+00,\n",
       "       9.41127349e+00, 8.72442589e+00, 3.69589422e+00, 2.08768267e-01,\n",
       "       6.95894224e-04, 2.95059151e-01, 5.57898399e+00, 1.21050800e+01,\n",
       "       1.17369520e+01, 6.75713292e+00, 2.12038970e+00, 3.76478775e-01])"
      ]
     },
     "execution_count": 150,
     "metadata": {},
     "output_type": "execute_result"
    }
   ],
   "source": [
    "standardScaler.mean_"
   ]
  },
  {
   "cell_type": "code",
   "execution_count": 151,
   "metadata": {},
   "outputs": [
    {
     "data": {
      "text/plain": [
       "array([1.        , 0.94017138, 4.78742949, 4.26578278, 4.36785137,\n",
       "       5.72381836, 3.4005247 , 1.13590446, 0.08735621, 3.12334135,\n",
       "       5.39821329, 3.98219084, 4.81472915, 6.02416791, 3.64715527,\n",
       "       0.90230945, 0.04564345, 3.57385393, 5.75969272, 5.80493447,\n",
       "       6.17575076, 6.22002395, 3.24573466, 0.45705578, 0.02637063,\n",
       "       3.15156027, 6.17826642, 5.88368225, 6.1593801 , 5.89885246,\n",
       "       3.65098118, 0.04564345, 1.        , 3.46861186, 6.32616338,\n",
       "       6.2616413 , 5.88164669, 5.88427672, 3.50937656, 1.        ,\n",
       "       0.11488369, 2.89958122, 6.56268508, 6.39026431, 6.27507783,\n",
       "       5.70299867, 4.35525043, 0.32492523, 0.08742271, 1.74277813,\n",
       "       5.65260413, 5.17039218, 5.31852093, 6.03601305, 4.90934559,\n",
       "       0.99314614, 0.02637063, 0.9760154 , 5.13873533, 4.39278311,\n",
       "       5.01053642, 5.94560353, 4.13685277, 1.8962889 ])"
      ]
     },
     "execution_count": 151,
     "metadata": {},
     "output_type": "execute_result"
    }
   ],
   "source": [
    "standardScaler.scale_"
   ]
  },
  {
   "cell_type": "code",
   "execution_count": 152,
   "metadata": {},
   "outputs": [],
   "source": [
    "X_train = standardScalar.transform(x_train)"
   ]
  },
  {
   "cell_type": "code",
   "execution_count": 153,
   "metadata": {},
   "outputs": [
    {
     "data": {
      "text/plain": [
       "array([[ 0.00000000e+00, -3.35300658e-01,  1.62220239e-01,\n",
       "         2.96903887e-02,  7.31924645e-01,  5.64003450e-01,\n",
       "        -1.19716266e-01, -1.31103776e-01, -5.57631748e-02,\n",
       "         9.86800727e-01,  6.83620093e-01, -2.00544937e+00,\n",
       "        -1.09354764e+00,  1.32278596e+00,  3.14064471e-01,\n",
       "        -1.37280145e-01, -4.57389354e-02,  1.80542668e+00,\n",
       "        -3.26821927e-01, -6.96980998e-01,  9.59484854e-01,\n",
       "         1.33327002e+00,  6.88661422e-01, -1.12669338e-01,\n",
       "        -2.63889907e-02,  1.64503025e-01,  9.36116461e-01,\n",
       "         1.02662952e+00, -4.77345617e-01,  4.14078627e-01,\n",
       "         1.56448350e+00, -4.57389354e-02,  0.00000000e+00,\n",
       "        -6.77514489e-01, -1.21321833e+00, -1.29017867e+00,\n",
       "        -1.74989695e+00,  5.60213446e-01,  1.46104260e+00,\n",
       "         0.00000000e+00, -4.24016654e-02, -5.28715997e-01,\n",
       "        -1.04118746e+00, -1.12166104e+00, -1.22342787e+00,\n",
       "         5.02122637e-01, -3.25317835e-01, -9.20933468e-02,\n",
       "        -3.98005419e-02, -3.92513545e-01, -8.58079326e-02,\n",
       "        -1.08656246e+00, -8.29417341e-01,  7.08344081e-01,\n",
       "        -7.52828285e-01, -2.10209010e-01, -2.63889907e-02,\n",
       "        -3.02309933e-01, -1.12670522e-01,  4.31371166e-01,\n",
       "         6.51237262e-01, -4.63726332e-01, -5.12561074e-01,\n",
       "        -1.98534503e-01],\n",
       "       [ 0.00000000e+00,  7.28335205e-01, -4.64420844e-01,\n",
       "         7.32961079e-01,  7.31924645e-01, -6.58956391e-01,\n",
       "        -4.13788531e-01, -1.31103776e-01,  2.28390032e+01,\n",
       "         4.50867002e+00,  1.05411305e+00,  3.49503202e-03,\n",
       "         1.19110839e+00, -3.37194326e-01, -5.08494421e-01,\n",
       "        -1.37280145e-01,  2.18632111e+01,  3.48428657e+00,\n",
       "        -5.00442301e-01, -1.80179298e-01,  1.12140849e+00,\n",
       "        -1.23906734e+00, -5.43725207e-01, -1.12669338e-01,\n",
       "        -2.63889907e-02,  7.99109323e-01,  7.74258760e-01,\n",
       "         8.56667926e-01,  9.71638416e-03, -1.28116635e+00,\n",
       "        -6.26708301e-01, -4.57389354e-02,  0.00000000e+00,\n",
       "        -6.77514489e-01, -1.06702492e-01,  1.10535938e+00,\n",
       "        -5.59754053e-01, -1.47911961e+00, -8.18564581e-01,\n",
       "         0.00000000e+00, -4.24016654e-02, -5.28715997e-01,\n",
       "        -1.26927527e-01,  1.22565971e+00,  8.48259586e-01,\n",
       "        -2.39164124e-02, -7.84533679e-01, -9.20933468e-02,\n",
       "        -3.98005419e-02, -3.92513545e-01,  9.11016788e-02,\n",
       "         4.60708945e-01, -4.53372943e-01,  1.20536090e+00,\n",
       "        -7.52828285e-01, -2.10209010e-01, -2.63889907e-02,\n",
       "        -3.02309933e-01, -3.07270932e-01,  6.59017279e-01,\n",
       "         8.50816691e-01,  1.21818871e+00, -5.12561074e-01,\n",
       "        -1.98534503e-01],\n",
       "       [ 0.00000000e+00, -3.35300658e-01, -4.66601224e-02,\n",
       "         9.67384643e-01, -1.83857431e-01, -1.00837349e+00,\n",
       "        -4.13788531e-01, -1.31103776e-01, -5.57631748e-02,\n",
       "        -6.14048951e-01,  3.13127137e-01,  2.54613083e-01,\n",
       "         5.68020384e-01,  4.92795819e-01, -5.08494421e-01,\n",
       "        -1.37280145e-01, -4.57389354e-02, -7.12863145e-01,\n",
       "         5.41279939e-01,  1.64355168e-01, -1.73980577e-01,\n",
       "         1.33327002e+00, -5.43725207e-01, -1.12669338e-01,\n",
       "        -2.63889907e-02, -7.87406423e-01, -3.58745149e-01,\n",
       "         8.56667926e-01,  9.83840387e-01,  1.43122561e+00,\n",
       "         4.68887597e-01, -4.57389354e-02,  0.00000000e+00,\n",
       "        -6.77514489e-01, -1.21321833e+00, -3.31963450e-01,\n",
       "        -3.89733640e-01,  9.00102288e-01,  1.17609170e+00,\n",
       "         0.00000000e+00, -4.24016654e-02, -5.28715997e-01,\n",
       "        -4.31680837e-01, -1.12166104e+00, -1.22342787e+00,\n",
       "        -2.39164124e-02,  1.97076138e+00, -9.20933468e-02,\n",
       "        -3.98005419e-02,  1.81282960e-01,  1.32946896e+00,\n",
       "         2.67300019e-01, -2.65350744e-01,  7.08344081e-01,\n",
       "         1.48779621e+00, -2.10209010e-01, -2.63889907e-02,\n",
       "        -3.02309933e-01, -1.12670522e-01, -2.51567173e-01,\n",
       "         5.24989731e-02,  1.21818871e+00,  2.12627896e-01,\n",
       "        -1.98534503e-01],\n",
       "       [ 0.00000000e+00, -3.35300658e-01, -8.82181566e-01,\n",
       "         7.32961079e-01, -1.83857431e-01, -8.33664940e-01,\n",
       "        -4.13788531e-01, -1.31103776e-01, -5.57631748e-02,\n",
       "        -6.14048951e-01, -2.42612298e-01,  3.49503202e-03,\n",
       "        -4.70459631e-01,  6.58793848e-01, -5.08494421e-01,\n",
       "        -1.37280145e-01, -4.57389354e-02, -4.33053164e-01,\n",
       "         8.88520685e-01, -1.04151546e+00, -1.73980577e-01,\n",
       "         1.33327002e+00,  7.24681073e-02, -1.12669338e-01,\n",
       "        -2.63889907e-02, -1.52800125e-01,  4.50543358e-01,\n",
       "        -1.52279436e+00, -1.45146962e+00,  5.83603124e-01,\n",
       "         1.01668555e+00, -4.57389354e-02,  0.00000000e+00,\n",
       "         7.63984357e-01,  3.67518583e-01, -1.44988121e+00,\n",
       "        -1.74989695e+00,  3.90269025e-01,  3.21239007e-01,\n",
       "         0.00000000e+00, -4.24016654e-02,  1.61038781e-01,\n",
       "         9.39709058e-01, -1.12166104e+00, -1.22342787e+00,\n",
       "         3.26776287e-01, -9.57099131e-02, -9.20933468e-02,\n",
       "        -3.98005419e-02, -3.92513545e-01,  9.75649736e-01,\n",
       "        -1.47338032e+00, -1.20546174e+00,  7.08344081e-01,\n",
       "        -1.41748877e-01, -2.10209010e-01, -2.63889907e-02,\n",
       "        -3.02309933e-01, -8.91072161e-01,  2.03725053e-01,\n",
       "         8.50816691e-01,  1.38638021e+00, -2.70831418e-01,\n",
       "        -1.98534503e-01],\n",
       "       [ 0.00000000e+00, -3.35300658e-01, -1.09106193e+00,\n",
       "        -6.73580302e-01, -1.83857431e-01, -1.00837349e+00,\n",
       "        -4.13788531e-01, -1.31103776e-01, -5.57631748e-02,\n",
       "        -6.14048951e-01, -9.83598210e-01,  5.05731133e-01,\n",
       "        -1.50893965e+00, -1.00118644e+00, -5.08494421e-01,\n",
       "        -1.37280145e-01, -4.57389354e-02, -7.12863145e-01,\n",
       "         8.88520685e-01, -8.69248231e-01, -9.83598742e-01,\n",
       "         1.01172785e+00,  3.80564765e-01, -1.12669338e-01,\n",
       "        -2.63889907e-02,  7.99109323e-01,  6.12401059e-01,\n",
       "        -1.52279436e+00,  4.96778386e-01,  7.50296315e-02,\n",
       "        -3.52809326e-01, -4.57389354e-02,  0.00000000e+00,\n",
       "         1.62888366e+00,  8.41739658e-01, -9.70773597e-01,\n",
       "         9.70429665e-01,  9.00102288e-01,  8.91140801e-01,\n",
       "         0.00000000e+00, -4.24016654e-02,  1.54054834e+00,\n",
       "         1.24446237e+00,  1.38214776e+00,  8.48259586e-01,\n",
       "        -9.00648162e-01, -7.84533679e-01, -9.20933468e-02,\n",
       "        -3.98005419e-02, -3.92513545e-01, -1.32417521e+00,\n",
       "        -1.19517833e-01,  2.98715853e-01, -1.44539547e+00,\n",
       "        -7.52828285e-01, -2.10209010e-01, -2.63889907e-02,\n",
       "        -3.02309933e-01, -1.08567257e+00, -2.51567173e-01,\n",
       "        -9.45398175e-01, -1.13649235e+00, -5.12561074e-01,\n",
       "        -1.98534503e-01],\n",
       "       [ 0.00000000e+00, -3.35300658e-01, -1.09106193e+00,\n",
       "         2.96903887e-02,  2.74033607e-01, -1.00837349e+00,\n",
       "        -4.13788531e-01, -1.31103776e-01, -5.57631748e-02,\n",
       "        -6.14048951e-01, -1.53933764e+00,  1.00796723e+00,\n",
       "         3.60324381e-01, -1.33318250e+00, -5.08494421e-01,\n",
       "        -1.37280145e-01, -4.57389354e-02, -7.12863145e-01,\n",
       "        -1.02130342e+00,  1.54249303e+00, -1.73980577e-01,\n",
       "        -1.23906734e+00, -5.43725207e-01, -1.12669338e-01,\n",
       "        -2.63889907e-02, -7.87406423e-01,  1.26827955e-01,\n",
       "         1.19659111e+00, -3.14991617e-01, -1.28116635e+00,\n",
       "        -6.26708301e-01, -4.57389354e-02,  0.00000000e+00,\n",
       "        -6.77514489e-01,  5.13711997e-02,  1.10535938e+00,\n",
       "         9.70429665e-01,  1.07004671e+00,  6.06189904e-01,\n",
       "         0.00000000e+00, -4.24016654e-02, -5.28715997e-01,\n",
       "         1.77825783e-01,  1.38214776e+00, -1.22342787e+00,\n",
       "        -3.74609112e-01,  2.65958515e+00,  2.98553780e+00,\n",
       "        -3.98005419e-02, -3.92513545e-01, -8.58079326e-02,\n",
       "         1.23434465e+00, -1.01743954e+00,  2.11327262e-01,\n",
       "         2.50626189e+00,  2.81049446e+00, -2.63889907e-02,\n",
       "        -3.02309933e-01, -8.91072161e-01, -2.51567173e-01,\n",
       "         8.50816691e-01,  1.55457172e+00,  2.38819481e+00,\n",
       "        -1.98534503e-01],\n",
       "       [ 0.00000000e+00, -3.35300658e-01, -4.64420844e-01,\n",
       "        -2.04733175e-01,  9.60870164e-01,  1.61225474e+00,\n",
       "        -4.13788531e-01, -1.31103776e-01, -5.57631748e-02,\n",
       "        -6.14048951e-01,  8.68866571e-01,  1.00796723e+00,\n",
       "        -1.09354764e+00,  8.24791877e-01, -5.08494421e-01,\n",
       "        -1.37280145e-01, -4.57389354e-02, -1.53243184e-01,\n",
       "         1.06214106e+00,  3.36622401e-01, -1.14552237e+00,\n",
       "         6.90185681e-01, -5.43725207e-01, -1.12669338e-01,\n",
       "        -2.63889907e-02, -4.70103274e-01, -3.50297461e-02,\n",
       "         1.02662952e+00,  9.71638416e-03,  4.14078627e-01,\n",
       "        -6.26708301e-01, -4.57389354e-02,  0.00000000e+00,\n",
       "        -6.77514489e-01, -1.21321833e+00, -4.91665986e-01,\n",
       "         9.70429665e-01,  5.60213446e-01, -5.33613684e-01,\n",
       "         0.00000000e+00, -4.24016654e-02, -5.28715997e-01,\n",
       "        -7.36434147e-01,  1.06917166e+00, -9.04706720e-01,\n",
       "         1.37885439e+00,  3.63505930e-01, -9.20933468e-02,\n",
       "        -3.98005419e-02, -3.92513545e-01,  9.11016788e-02,\n",
       "         7.38910929e-02, -1.58150614e+00,  8.74016354e-01,\n",
       "         6.19442592e-02, -2.10209010e-01, -2.63889907e-02,\n",
       "        -3.02309933e-01, -5.01871342e-01,  6.59017279e-01,\n",
       "         8.50816691e-01,  3.77231188e-01, -5.12561074e-01,\n",
       "        -1.98534503e-01],\n",
       "       [ 0.00000000e+00, -3.35300658e-01, -6.73301205e-01,\n",
       "         4.98537516e-01,  5.02979126e-01,  3.98778038e-02,\n",
       "        -4.13788531e-01, -1.31103776e-01, -5.57631748e-02,\n",
       "        -6.14048951e-01, -5.73658196e-02,  7.56849184e-01,\n",
       "         1.52628378e-01,  1.15678794e+00,  3.98781741e-02,\n",
       "        -1.37280145e-01, -4.57389354e-02,  1.26566797e-01,\n",
       "         1.06214106e+00, -6.96980998e-01, -1.14552237e+00,\n",
       "         6.90185681e-01,  1.30485474e+00, -1.12669338e-01,\n",
       "        -2.63889907e-02,  1.64503025e-01, -3.50297461e-02,\n",
       "        -1.52279436e+00, -1.61382362e+00,  2.44554129e-01,\n",
       "         2.11228144e+00, -4.57389354e-02,  0.00000000e+00,\n",
       "         2.20548320e+00,  5.25592275e-01, -1.44988121e+00,\n",
       "        -1.74989695e+00, -1.19564238e-01,  2.60084618e+00,\n",
       "         0.00000000e+00, -4.24016654e-02,  1.88542573e+00,\n",
       "         1.39683902e+00, -9.65172990e-01, -1.22342787e+00,\n",
       "         5.02122637e-01,  2.20036930e+00, -9.20933468e-02,\n",
       "        -3.98005419e-02, -3.92513545e-01,  1.32946896e+00,\n",
       "         8.47526798e-01,  4.86738052e-01,  1.03968863e+00,\n",
       "         1.28410308e+00, -2.10209010e-01, -2.63889907e-02,\n",
       "        -3.02309933e-01, -5.01871342e-01,  4.31371166e-01,\n",
       "         8.50816691e-01,  1.04999720e+00,  6.96087209e-01,\n",
       "        -1.98534503e-01],\n",
       "       [ 0.00000000e+00,  7.28335205e-01,  9.97741683e-01,\n",
       "         2.96903887e-02,  7.31924645e-01,  9.13420548e-01,\n",
       "        -4.13788531e-01, -1.31103776e-01, -5.57631748e-02,\n",
       "         1.94731053e+00,  1.05411305e+00,  2.54613083e-01,\n",
       "        -2.62763628e-01, -6.69190384e-01, -5.08494421e-01,\n",
       "        -1.37280145e-01, -4.57389354e-02,  6.86186758e-01,\n",
       "         8.88520685e-01, -1.04151546e+00, -1.14552237e+00,\n",
       "        -1.23906734e+00, -5.43725207e-01, -1.12669338e-01,\n",
       "        -2.63889907e-02,  1.75101877e+00,  1.26827955e-01,\n",
       "        -1.52279436e+00, -1.61382362e+00, -1.28116635e+00,\n",
       "        -6.26708301e-01, -4.57389354e-02,  0.00000000e+00,\n",
       "        -1.00914951e-01,  9.99813350e-01,  1.10535938e+00,\n",
       "        -5.59754053e-01, -1.47911961e+00, -8.18564581e-01,\n",
       "         0.00000000e+00, -4.24016654e-02, -5.28715997e-01,\n",
       "        -8.88810802e-01, -4.95708840e-01,  8.48259586e-01,\n",
       "        -1.99262762e-01, -7.84533679e-01, -9.20933468e-02,\n",
       "        -3.98005419e-02, -3.92513545e-01, -1.32417521e+00,\n",
       "        -6.99744612e-01,  2.98715853e-01,  3.76999535e-01,\n",
       "        -7.52828285e-01, -2.10209010e-01, -2.63889907e-02,\n",
       "        -3.02309933e-01,  6.65731116e-01,  8.86663392e-01,\n",
       "         4.51657832e-01, -8.00109339e-01, -5.12561074e-01,\n",
       "        -1.98534503e-01],\n",
       "       [ 0.00000000e+00, -3.35300658e-01, -4.64420844e-01,\n",
       "        -2.04733175e-01, -1.09963951e+00, -8.33664940e-01,\n",
       "        -4.13788531e-01, -1.31103776e-01, -5.57631748e-02,\n",
       "        -6.14048951e-01, -5.73658196e-02,  7.56849184e-01,\n",
       "         7.75716387e-01,  9.90789906e-01, -5.08494421e-01,\n",
       "        -1.37280145e-01, -4.57389354e-02, -1.53243184e-01,\n",
       "         1.06214106e+00,  5.08889634e-01, -9.83598742e-01,\n",
       "         6.90185681e-01,  6.88661422e-01, -1.12669338e-01,\n",
       "        -2.63889907e-02, -1.52800125e-01,  1.09797416e+00,\n",
       "        -1.01290958e+00, -1.61382362e+00, -6.03068359e-01,\n",
       "         1.56448350e+00, -4.57389354e-02,  0.00000000e+00,\n",
       "         7.63984357e-01,  6.83665966e-01, -1.44988121e+00,\n",
       "        -1.74989695e+00, -4.59453080e-01,  1.46104260e+00,\n",
       "         0.00000000e+00, -4.24016654e-02, -1.83838608e-01,\n",
       "         7.87332403e-01, -1.12166104e+00, -1.22342787e+00,\n",
       "         5.02122637e-01,  1.28193762e+00, -9.20933468e-02,\n",
       "        -3.98005419e-02, -3.92513545e-01,  1.32946896e+00,\n",
       "        -1.19517833e-01,  8.62782450e-01,  1.03968863e+00,\n",
       "        -5.49135149e-01, -2.10209010e-01, -2.63889907e-02,\n",
       "        -3.02309933e-01, -3.07270932e-01,  6.59017279e-01,\n",
       "         6.51237262e-01, -4.63726332e-01, -5.12561074e-01,\n",
       "        -1.98534503e-01]])"
      ]
     },
     "execution_count": 153,
     "metadata": {},
     "output_type": "execute_result"
    }
   ],
   "source": [
    "X_train[:10,:]"
   ]
  },
  {
   "cell_type": "code",
   "execution_count": 155,
   "metadata": {},
   "outputs": [],
   "source": [
    "X_test_standard = standardScalar.transform(x_test) "
   ]
  },
  {
   "cell_type": "code",
   "execution_count": 156,
   "metadata": {},
   "outputs": [
    {
     "data": {
      "text/plain": [
       "array([[ 0.00000000e+00, -3.35300658e-01, -2.55540483e-01,\n",
       "         9.67384643e-01,  5.02979126e-01, -4.84247843e-01,\n",
       "        -4.13788531e-01, -1.31103776e-01,  2.28390032e+01,\n",
       "         3.86833015e+00,  1.05411305e+00,  3.49503202e-03,\n",
       "        -5.50676250e-02,  4.92795819e-01, -5.08494421e-01,\n",
       "        -1.37280145e-01, -4.57389354e-02,  2.92466660e+00,\n",
       "         3.67659566e-01,  3.36622401e-01,  1.28333212e+00,\n",
       "         3.68643511e-01, -5.43725207e-01, -1.12669338e-01,\n",
       "        -2.63889907e-02,  1.64503025e-01,  7.74258760e-01,\n",
       "         8.56667926e-01,  9.83840387e-01, -6.03068359e-01,\n",
       "        -6.26708301e-01, -4.57389354e-02,  0.00000000e+00,\n",
       "        -6.77514489e-01,  2.09444891e-01,  1.10535938e+00,\n",
       "        -3.89733640e-01, -1.47911961e+00, -8.18564581e-01,\n",
       "         0.00000000e+00, -4.24016654e-02, -5.28715997e-01,\n",
       "         7.87332403e-01,  1.22565971e+00,  1.00762016e+00,\n",
       "        -1.25134086e+00, -7.84533679e-01, -9.20933468e-02,\n",
       "        -3.98005419e-02, -3.92513545e-01,  7.98740125e-01,\n",
       "         4.60708945e-01,  1.23882685e+00, -7.82706375e-01,\n",
       "        -7.52828285e-01, -2.10209010e-01, -2.63889907e-02,\n",
       "        -3.02309933e-01, -3.07270932e-01,  6.59017279e-01,\n",
       "         8.50816691e-01, -6.31917835e-01, -5.12561074e-01,\n",
       "        -1.98534503e-01],\n",
       "       [ 0.00000000e+00, -3.35300658e-01, -2.55540483e-01,\n",
       "         9.67384643e-01,  9.60870164e-01,  3.89294901e-01,\n",
       "        -4.13788531e-01, -1.31103776e-01, -5.57631748e-02,\n",
       "        -6.14048951e-01, -7.98351732e-01,  1.00796723e+00,\n",
       "         1.19110839e+00,  1.15678794e+00, -2.34308123e-01,\n",
       "        -1.37280145e-01, -4.57389354e-02, -7.12863145e-01,\n",
       "        -1.02130342e+00,  1.54249303e+00,  1.44525575e+00,\n",
       "         6.90185681e-01, -5.43725207e-01, -1.12669338e-01,\n",
       "        -2.63889907e-02, -7.87406423e-01, -1.00617595e+00,\n",
       "         1.19659111e+00,  9.83840387e-01,  1.26170111e+00,\n",
       "        -6.26708301e-01, -4.57389354e-02,  0.00000000e+00,\n",
       "        -6.77514489e-01,  5.13711997e-02,  1.10535938e+00,\n",
       "         9.70429665e-01, -4.59453080e-01, -8.18564581e-01,\n",
       "         0.00000000e+00, -4.24016654e-02, -1.83838608e-01,\n",
       "         9.39709058e-01,  1.38214776e+00,  1.32634131e+00,\n",
       "        -7.25301812e-01, -7.84533679e-01, -9.20933468e-02,\n",
       "        -3.98005419e-02,  1.32887597e+00,  1.50637857e+00,\n",
       "         1.23434465e+00,  1.05080465e+00, -1.11405092e+00,\n",
       "        -7.52828285e-01, -2.10209010e-01, -2.63889907e-02,\n",
       "        -3.02309933e-01,  8.19298872e-02, -2.39210599e-02,\n",
       "         5.24989731e-02, -8.00109339e-01, -5.12561074e-01,\n",
       "        -1.98534503e-01],\n",
       "       [ 0.00000000e+00,  1.79197107e+00,  1.20662204e+00,\n",
       "         4.98537516e-01, -4.12802950e-01, -8.33664940e-01,\n",
       "        -4.13788531e-01, -1.31103776e-01, -5.57631748e-02,\n",
       "         1.30697066e+00,  3.13127137e-01, -1.00097717e+00,\n",
       "         9.83412390e-01,  3.26797790e-01, -5.08494421e-01,\n",
       "        -1.37280145e-01, -4.57389354e-02, -7.12863145e-01,\n",
       "        -1.71578491e+00, -1.21378270e+00,  4.73713955e-01,\n",
       "         5.29414596e-01, -5.43725207e-01, -1.12669338e-01,\n",
       "        -2.63889907e-02, -7.87406423e-01, -1.49174906e+00,\n",
       "        -1.63101625e-01,  6.59132386e-01, -9.42117354e-01,\n",
       "        -6.26708301e-01, -4.57389354e-02,  0.00000000e+00,\n",
       "        -6.77514489e-01, -1.21321833e+00, -3.31963450e-01,\n",
       "         9.70429665e-01,  1.07004671e+00, -5.33613684e-01,\n",
       "         0.00000000e+00, -4.24016654e-02, -5.28715997e-01,\n",
       "        -1.04118746e+00, -1.12166104e+00, -9.04706720e-01,\n",
       "         8.52815337e-01,  1.05232970e+00, -9.20933468e-02,\n",
       "        -3.98005419e-02,  7.55079464e-01, -4.39627156e-01,\n",
       "        -1.66678924e+00, -1.39348394e+00,  5.42671808e-01,\n",
       "         6.73023667e-01, -2.10209010e-01, -2.63889907e-02,\n",
       "         7.22264061e-01,  1.24953235e+00,  8.86663392e-01,\n",
       "         8.50816691e-01,  5.45422692e-01, -5.12561074e-01,\n",
       "        -1.98534503e-01],\n",
       "       [ 0.00000000e+00, -3.35300658e-01, -1.09106193e+00,\n",
       "        -2.08012168e+00,  5.02979126e-01,  5.64003450e-01,\n",
       "        -4.13788531e-01, -1.31103776e-01, -5.57631748e-02,\n",
       "        -6.14048951e-01, -1.90983060e+00,  2.54613083e-01,\n",
       "         1.52628378e-01, -1.16718447e+00, -5.08494421e-01,\n",
       "        -1.37280145e-01, -4.57389354e-02, -7.12863145e-01,\n",
       "        -1.53201554e-01,  1.19795857e+00, -1.14552237e+00,\n",
       "        -1.23906734e+00, -5.43725207e-01, -1.12669338e-01,\n",
       "        -2.63889907e-02,  4.81806174e-01,  1.09797416e+00,\n",
       "        -8.42947992e-01, -1.61382362e+00, -6.03068359e-01,\n",
       "        -7.89103517e-02, -4.57389354e-02,  0.00000000e+00,\n",
       "         2.78208274e+00,  6.83665966e-01, -3.31963450e-01,\n",
       "         6.30388839e-01,  1.23999113e+00,  2.03094439e+00,\n",
       "         0.00000000e+00, -4.24016654e-02,  3.95469006e+00,\n",
       "         1.39683902e+00,  1.06917166e+00,  5.29538439e-01,\n",
       "         1.37885439e+00,  1.33898009e-01, -9.20933468e-02,\n",
       "        -3.98005419e-02,  7.55079464e-01, -9.70355990e-01,\n",
       "        -1.86019817e+00,  2.98715853e-01,  7.08344081e-01,\n",
       "        -7.52828285e-01, -2.10209010e-01, -2.63889907e-02,\n",
       "        -3.02309933e-01, -1.08567257e+00, -2.07273608e+00,\n",
       "         8.50816691e-01,  3.77231188e-01, -5.12561074e-01,\n",
       "        -1.98534503e-01],\n",
       "       [ 0.00000000e+00, -3.35300658e-01, -1.09106193e+00,\n",
       "        -2.78339237e+00, -1.32858503e+00,  1.61225474e+00,\n",
       "         1.74355998e-01, -1.31103776e-01, -5.57631748e-02,\n",
       "        -6.14048951e-01, -1.90983060e+00, -1.75433132e+00,\n",
       "         1.19110839e+00,  1.32278596e+00,  3.98781741e-02,\n",
       "        -1.37280145e-01, -4.57389354e-02, -7.12863145e-01,\n",
       "        -1.02130342e+00,  1.54249303e+00,  7.97561221e-01,\n",
       "         1.33327002e+00, -5.43725207e-01, -1.12669338e-01,\n",
       "        -2.63889907e-02,  4.81806174e-01,  9.36116461e-01,\n",
       "        -5.03024808e-01, -4.77345617e-01,  9.22652119e-01,\n",
       "        -6.26708301e-01, -4.57389354e-02,  0.00000000e+00,\n",
       "         2.49378297e+00,  1.15788704e+00,  9.45656844e-01,\n",
       "         9.70429665e-01,  1.23999113e+00,  1.74599349e+00,\n",
       "         0.00000000e+00, -4.24016654e-02,  2.57518050e+00,\n",
       "         9.39709058e-01,  7.56195559e-01,  8.48259586e-01,\n",
       "         1.02816169e+00, -9.57099131e-02, -9.20933468e-02,\n",
       "        -3.98005419e-02, -3.92513545e-01, -1.32417521e+00,\n",
       "        -1.86019817e+00, -7.73285453e-02, -1.20017283e-01,\n",
       "        -7.52828285e-01, -2.10209010e-01, -2.63889907e-02,\n",
       "        -3.02309933e-01, -1.08567257e+00, -2.75567442e+00,\n",
       "        -7.45818745e-01,  2.09039684e-01, -5.12561074e-01,\n",
       "        -1.98534503e-01],\n",
       "       [ 0.00000000e+00, -3.35300658e-01, -4.64420844e-01,\n",
       "         2.96903887e-02, -1.83857431e-01, -8.33664940e-01,\n",
       "        -4.13788531e-01, -1.31103776e-01, -5.57631748e-02,\n",
       "        -2.93879015e-01,  6.83620093e-01,  5.05731133e-01,\n",
       "         9.83412390e-01, -5.19826813e-03, -5.08494421e-01,\n",
       "        -1.37280145e-01, -4.57389354e-02,  1.26566797e-01,\n",
       "         1.06214106e+00, -8.69248231e-01, -3.35904210e-01,\n",
       "         1.33327002e+00, -2.35628550e-01, -1.12669338e-01,\n",
       "        -2.63889907e-02,  4.81806174e-01,  1.09797416e+00,\n",
       "        -1.52279436e+00, -1.61382362e+00,  1.09217662e+00,\n",
       "         1.01668555e+00, -4.57389354e-02,  0.00000000e+00,\n",
       "         4.75684588e-01,  1.31596073e+00, -1.44988121e+00,\n",
       "        -1.74989695e+00,  3.90269025e-01,  1.46104260e+00,\n",
       "         0.00000000e+00, -4.24016654e-02,  5.05916170e-01,\n",
       "         1.39683902e+00, -8.08684940e-01, -1.22342787e+00,\n",
       "         3.26776287e-01,  1.05232970e+00, -9.20933468e-02,\n",
       "        -3.98005419e-02, -3.92513545e-01,  4.44920902e-01,\n",
       "         1.04093572e+00,  6.74760251e-01,  1.20536090e+00,\n",
       "        -1.41748877e-01, -2.10209010e-01, -2.63889907e-02,\n",
       "        -3.02309933e-01, -8.91072161e-01,  6.59017279e-01,\n",
       "         4.51657832e-01, -1.27343324e-01, -5.12561074e-01,\n",
       "        -1.98534503e-01],\n",
       "       [ 0.00000000e+00, -3.35300658e-01,  1.62220239e-01,\n",
       "         2.64113952e-01,  9.60870164e-01,  3.98778038e-02,\n",
       "        -4.13788531e-01, -1.31103776e-01, -5.57631748e-02,\n",
       "         3.46460856e-01,  1.05411305e+00,  5.05731133e-01,\n",
       "         9.83412390e-01,  1.32278596e+00, -2.34308123e-01,\n",
       "        -1.37280145e-01, -4.57389354e-02, -7.12863145e-01,\n",
       "        -8.47683047e-01, -1.21378270e+00,  1.49866689e-01,\n",
       "         1.33327002e+00,  7.24681073e-02, -1.12669338e-01,\n",
       "        -2.63889907e-02, -7.87406423e-01, -1.49174906e+00,\n",
       "        -1.52279436e+00, -3.14991617e-01,  1.43122561e+00,\n",
       "         1.94988623e-01, -4.57389354e-02,  0.00000000e+00,\n",
       "         1.87384819e-01,  1.15788704e+00,  1.10535938e+00,\n",
       "         9.70429665e-01,  1.23999113e+00,  1.74599349e+00,\n",
       "         0.00000000e+00, -4.24016654e-02,  1.19567095e+00,\n",
       "         9.39709058e-01,  1.06917166e+00,  1.32634131e+00,\n",
       "         5.02122637e-01, -9.57099131e-02, -9.20933468e-02,\n",
       "        -3.98005419e-02, -3.92513545e-01, -1.32417521e+00,\n",
       "         4.60708945e-01,  1.05080465e+00, -1.27972319e+00,\n",
       "        -7.52828285e-01, -2.10209010e-01, -2.63889907e-02,\n",
       "        -3.02309933e-01, -3.07270932e-01,  8.86663392e-01,\n",
       "        -9.45398175e-01, -1.13649235e+00, -5.12561074e-01,\n",
       "        -1.98534503e-01],\n",
       "       [ 0.00000000e+00, -3.35300658e-01,  5.79980961e-01,\n",
       "         4.98537516e-01, -1.83857431e-01, -6.58956391e-01,\n",
       "        -4.13788531e-01, -1.31103776e-01, -5.57631748e-02,\n",
       "         1.30697066e+00,  1.05411305e+00, -1.25209522e+00,\n",
       "        -8.85851637e-01,  8.24791877e-01, -2.34308123e-01,\n",
       "        -1.37280145e-01, -4.57389354e-02,  1.52561670e+00,\n",
       "         1.94039192e-01, -1.21378270e+00, -1.14552237e+00,\n",
       "         3.68643511e-01,  6.88661422e-01, -1.12669338e-01,\n",
       "        -2.63889907e-02,  1.43371562e+00, -1.96887447e-01,\n",
       "        -1.52279436e+00, -1.61382362e+00, -4.33543861e-01,\n",
       "         1.29058452e+00, -4.57389354e-02,  0.00000000e+00,\n",
       "         1.62888366e+00, -5.80923567e-01, -1.44988121e+00,\n",
       "        -1.74989695e+00, -2.89508659e-01,  1.46104260e+00,\n",
       "         0.00000000e+00, -4.24016654e-02,  1.61038781e-01,\n",
       "         4.82579093e-01, -1.12166104e+00, -1.22342787e+00,\n",
       "        -1.99262762e-01,  1.51154554e+00, -9.20933468e-02,\n",
       "        -3.98005419e-02, -3.92513545e-01,  1.15255935e+00,\n",
       "        -1.27997139e+00, -1.01743954e+00,  1.03968863e+00,\n",
       "        -1.41748877e-01, -2.10209010e-01, -2.63889907e-02,\n",
       "        -3.02309933e-01, -1.12670522e-01,  8.86663392e-01,\n",
       "         8.50816691e-01,  4.08481801e-02, -5.12561074e-01,\n",
       "        -1.98534503e-01],\n",
       "       [ 0.00000000e+00, -3.35300658e-01, -8.82181566e-01,\n",
       "        -1.14242743e+00, -1.32858503e+00,  9.13420548e-01,\n",
       "        -1.19716266e-01, -1.31103776e-01, -5.57631748e-02,\n",
       "        -6.14048951e-01,  4.98373615e-01, -2.47623018e-01,\n",
       "         9.83412390e-01,  1.32278596e+00,  1.41080966e+00,\n",
       "        -1.37280145e-01, -4.57389354e-02, -7.12863145e-01,\n",
       "         5.41279939e-01, -1.80179298e-01,  6.35637588e-01,\n",
       "         1.33327002e+00,  6.88661422e-01, -1.12669338e-01,\n",
       "        -2.63889907e-02, -7.87406423e-01, -1.00617595e+00,\n",
       "         1.02662952e+00,  9.83840387e-01, -9.44948661e-02,\n",
       "        -6.26708301e-01, -4.57389354e-02,  0.00000000e+00,\n",
       "        -6.77514489e-01, -5.80923567e-01,  9.45656844e-01,\n",
       "         6.30388839e-01, -2.89508659e-01, -8.18564581e-01,\n",
       "         0.00000000e+00, -4.24016654e-02, -1.83838608e-01,\n",
       "         1.09208571e+00, -6.52196890e-01, -1.06406729e+00,\n",
       "         8.52815337e-01, -7.84533679e-01, -9.20933468e-02,\n",
       "        -3.98005419e-02,  7.55079464e-01,  7.98740125e-01,\n",
       "        -1.47338032e+00, -1.20546174e+00,  5.42671808e-01,\n",
       "        -7.52828285e-01, -2.10209010e-01, -2.63889907e-02,\n",
       "        -3.02309933e-01, -8.91072161e-01, -4.79213286e-01,\n",
       "        -7.45818745e-01, -9.68300843e-01, -5.12561074e-01,\n",
       "        -1.98534503e-01],\n",
       "       [ 0.00000000e+00, -3.35300658e-01, -6.73301205e-01,\n",
       "         2.64113952e-01,  7.31924645e-01,  3.89294901e-01,\n",
       "        -4.13788531e-01, -1.31103776e-01, -5.57631748e-02,\n",
       "        -6.14048951e-01, -5.73658196e-02,  5.05731133e-01,\n",
       "        -5.50676250e-02,  4.92795819e-01,  1.68499596e+00,\n",
       "        -1.37280145e-01, -4.57389354e-02, -7.12863145e-01,\n",
       "         1.06214106e+00, -1.04151546e+00, -1.14552237e+00,\n",
       "        -1.23906734e+00,  2.22914471e+00, -1.12669338e-01,\n",
       "        -2.63889907e-02,  1.64503025e-01,  6.12401059e-01,\n",
       "        -1.52279436e+00, -1.61382362e+00, -1.28116635e+00,\n",
       "         1.56448350e+00, -4.57389354e-02,  0.00000000e+00,\n",
       "         4.75684588e-01,  6.83665966e-01, -1.44988121e+00,\n",
       "        -1.74989695e+00, -1.30917518e+00,  1.46104260e+00,\n",
       "         0.00000000e+00, -4.24016654e-02,  1.19567095e+00,\n",
       "         7.87332403e-01, -1.12166104e+00, -1.22342787e+00,\n",
       "         3.26776287e-01, -7.84533679e-01, -9.20933468e-02,\n",
       "        -3.98005419e-02, -3.92513545e-01,  1.32946896e+00,\n",
       "        -3.12926760e-01, -4.53372943e-01,  2.11327262e-01,\n",
       "        -7.52828285e-01, -2.10209010e-01, -2.63889907e-02,\n",
       "        -3.02309933e-01, -3.07270932e-01,  4.31371166e-01,\n",
       "         4.51657832e-01, -9.68300843e-01, -5.12561074e-01,\n",
       "        -1.98534503e-01]])"
      ]
     },
     "execution_count": 156,
     "metadata": {},
     "output_type": "execute_result"
    }
   ],
   "source": [
    "X_test_standard[:10,:]"
   ]
  },
  {
   "cell_type": "code",
   "execution_count": 157,
   "metadata": {},
   "outputs": [
    {
     "data": {
      "text/plain": [
       "KNeighborsClassifier(n_neighbors=3)"
      ]
     },
     "execution_count": 157,
     "metadata": {},
     "output_type": "execute_result"
    }
   ],
   "source": [
    "knn_clf = KNeighborsClassifier(n_neighbors=3)\n",
    "knn_clf.fit(X_train, y_train)"
   ]
  },
  {
   "cell_type": "code",
   "execution_count": 158,
   "metadata": {},
   "outputs": [
    {
     "data": {
      "text/plain": [
       "0.9777777777777777"
      ]
     },
     "execution_count": 158,
     "metadata": {},
     "output_type": "execute_result"
    }
   ],
   "source": [
    "knn_clf.score(X_test_standard, y_test)"
   ]
  },
  {
   "cell_type": "markdown",
   "metadata": {},
   "source": [
    "##### 注意： 此时不能传入没有归一化的数据"
   ]
  },
  {
   "cell_type": "code",
   "execution_count": 160,
   "metadata": {},
   "outputs": [
    {
     "data": {
      "text/plain": [
       "0.7722222222222223"
      ]
     },
     "execution_count": 160,
     "metadata": {},
     "output_type": "execute_result"
    }
   ],
   "source": [
    "knn_clf.score(x_test, y_test)"
   ]
  },
  {
   "cell_type": "code",
   "execution_count": null,
   "metadata": {},
   "outputs": [],
   "source": []
  }
 ],
 "metadata": {
  "kernelspec": {
   "display_name": "Python 3",
   "language": "python",
   "name": "python3"
  },
  "language_info": {
   "codemirror_mode": {
    "name": "ipython",
    "version": 3
   },
   "file_extension": ".py",
   "mimetype": "text/x-python",
   "name": "python",
   "nbconvert_exporter": "python",
   "pygments_lexer": "ipython3",
   "version": "3.8.5"
  }
 },
 "nbformat": 4,
 "nbformat_minor": 4
}
